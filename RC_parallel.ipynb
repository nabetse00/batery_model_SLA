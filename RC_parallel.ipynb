{
 "cells": [
  {
   "cell_type": "markdown",
   "source": [
    "# RC parallel circuit\r\n",
    "Kirchhoff's current law:\r\n",
    "$$ i = i_r + i_c $$\r\n",
    "$$ di = di_r +di_c = 0 $$\r\n",
    "$$di_r = -di_c$$\r\n",
    "$$V_c = V_r $$\r\n",
    "Capacitor equation:\r\n",
    "$$ V_c = \\frac{Q}{C}$$\r\n",
    "diferencial:\r\n",
    "$$ dV_C = \\frac{1}{C} dQ $$\r\n",
    "$$ dQ = i_c dt$$\r\n",
    "$$ dV_c = \\frac{1}{C} i_c dt = R di_r = -R di_c $$\r\n",
    "$$ \\frac{di_c}{i_c} = \\frac{-1}{RC} dt $$\r\n",
    "$$ ln i_c = -t/RC + k $$\r\n",
    "$$ i_c = Ae^{-t/RC}$$\r\n",
    "$$ Vc = -AR e^{-t/RC} + B$$\r\n",
    "Initial condition for t=0 V_c = V_r = 0\r\n",
    "$$ B = AR $$\r\n",
    "$$ Vc = AR (1- e^{-t/RC})$$\r\n",
    "$$ i(0) = I = V_c(0)/R + i_c(0) = A $$\r\n",
    "$$ V_c = RI (1- e^{-t/RC}) $$\r\n",
    "Batery capacity is modeled as time to get to 100V from 0V with a I=1A in Hours\r\n",
    "$$ 100 = R (1- e^{-3600C_{AH}/RC}) $$\r\n",
    "$$ C = \\frac{3600C_{AH}}{-Rln( 1 - 100/R)} $$"
   ],
   "metadata": {}
  },
  {
   "cell_type": "code",
   "execution_count": 21,
   "source": [
    "import numpy as np\r\n",
    "from matplotlib import pyplot as plt\r\n",
    "import matplotlib.ticker as tkr\r\n",
    "eng = tkr.EngFormatter(places=2)\r\n",
    "R = 200\r\n",
    "C = 50\r\n",
    "Tau = R*C\r\n",
    "I=1\r\n",
    "fVc = lambda t: R*I*(1-np.exp(-t/Tau))\r\n",
    "t = np.arange(0, 5*Tau, Tau/10)\r\n",
    "Vc = fVc(t)\r\n",
    "C_as = -R*C*np.log(1-100/R)\r\n",
    "plt.plot(t,Vc, '-')\r\n",
    "print(f\"Capacity is C_as={eng(C_as/3600)}AH, charging time is {eng(C_as)}s\")\r\n",
    "plt.plot(C_as, 100, 'o')\r\n",
    "plt.title(\"$V_c$ Charge\")\r\n",
    "plt.vlines(C_as,0,100,color='gray', linestyle='--')\r\n",
    "plt.hlines(100,0,C_as, color='gray', linestyle='--')\r\n",
    "plt.xlim(0,None)\r\n",
    "plt.ylim(0,None)\r\n",
    "plt.grid()\r\n",
    "plt.xlabel(\"Time\")\r\n",
    "plt.ylabel(\"Volts\")"
   ],
   "outputs": [
    {
     "output_type": "stream",
     "name": "stdout",
     "text": [
      "Capacity is C_as=1.93AH, charging time is 6.93 ks\n"
     ]
    },
    {
     "output_type": "execute_result",
     "data": {
      "text/plain": [
       "Text(0, 0.5, 'Volts')"
      ]
     },
     "metadata": {},
     "execution_count": 21
    },
    {
     "output_type": "display_data",
     "data": {
      "image/png": "[encoded data removed]",
      "text/plain": [
       "<Figure size 432x288 with 1 Axes>"
      ]
     },
     "metadata": {
      "needs_background": "light"
     }
    }
   ],
   "metadata": {}
  },
  {
   "cell_type": "code",
   "execution_count": 2,
   "source": [
    "C_ah = 2.78e-6\r\n",
    "R=1e6\r\n",
    "C = lambda x: (3600*x)/(-R*np.log(1-100/R))\r\n",
    "print(f\"Capacitor value is C={eng(C(C_ah))}F for C_ah={eng(C_ah)}AH, charging time is {eng(C_ah*3600)}s\")"
   ],
   "outputs": [
    {
     "output_type": "stream",
     "name": "stdout",
     "text": [
      "Capacitor value is C=100.07 µF for C_ah=2.78 µAH, charging time is 10.01 ms\n"
     ]
    }
   ],
   "metadata": {}
  }
 ],
 "metadata": {
  "orig_nbformat": 4,
  "language_info": {
   "name": "python",
   "version": "3.9.6",
   "mimetype": "text/x-python",
   "codemirror_mode": {
    "name": "ipython",
    "version": 3
   },
   "pygments_lexer": "ipython3",
   "nbconvert_exporter": "python",
   "file_extension": ".py"
  },
  "kernelspec": {
   "name": "python3",
   "display_name": "Python 3.9.6 64-bit"
  },
  "interpreter": {
   "hash": "3874ccf3cdd924d405677b6affbeea2f74a6fe328a8d8368a21fe4e043197061"
  }
 },
 "nbformat": 4,
 "nbformat_minor": 2
}